{
 "cells": [
  {
   "cell_type": "code",
   "execution_count": 214,
   "metadata": {
    "ExecuteTime": {
     "end_time": "2023-12-22T09:06:35.688983200Z",
     "start_time": "2023-12-22T09:06:24.469201500Z"
    }
   },
   "outputs": [
    {
     "name": "stdout",
     "output_type": "stream",
     "text": [
      "Requirement already satisfied: numpy in c:\\users\\admin\\appdata\\local\\programs\\python\\python311\\lib\\site-packages (1.26.1)\n",
      "Note: you may need to restart the kernel to use updated packages.\n"
     ]
    },
    {
     "name": "stderr",
     "output_type": "stream",
     "text": [
      "\n",
      "[notice] A new release of pip is available: 23.1.2 -> 23.3.2\n",
      "[notice] To update, run: python.exe -m pip install --upgrade pip\n"
     ]
    },
    {
     "name": "stdout",
     "output_type": "stream",
     "text": [
      "Requirement already satisfied: pandas in c:\\users\\admin\\appdata\\local\\programs\\python\\python311\\lib\\site-packages (2.1.2)\n",
      "Requirement already satisfied: numpy<2,>=1.23.2 in c:\\users\\admin\\appdata\\local\\programs\\python\\python311\\lib\\site-packages (from pandas) (1.26.1)\n",
      "Requirement already satisfied: python-dateutil>=2.8.2 in c:\\users\\admin\\appdata\\roaming\\python\\python311\\site-packages (from pandas) (2.8.2)\n",
      "Requirement already satisfied: pytz>=2020.1 in c:\\users\\admin\\appdata\\local\\programs\\python\\python311\\lib\\site-packages (from pandas) (2023.3.post1)\n",
      "Requirement already satisfied: tzdata>=2022.1 in c:\\users\\admin\\appdata\\local\\programs\\python\\python311\\lib\\site-packages (from pandas) (2023.3)\n",
      "Requirement already satisfied: six>=1.5 in c:\\users\\admin\\appdata\\roaming\\python\\python311\\site-packages (from python-dateutil>=2.8.2->pandas) (1.16.0)\n",
      "Note: you may need to restart the kernel to use updated packages.\n"
     ]
    },
    {
     "name": "stderr",
     "output_type": "stream",
     "text": [
      "\n",
      "[notice] A new release of pip is available: 23.1.2 -> 23.3.2\n",
      "[notice] To update, run: python.exe -m pip install --upgrade pip\n"
     ]
    },
    {
     "name": "stdout",
     "output_type": "stream",
     "text": [
      "Requirement already satisfied: matplotlib in c:\\users\\admin\\appdata\\local\\programs\\python\\python311\\lib\\site-packages (3.8.1)\n",
      "Requirement already satisfied: contourpy>=1.0.1 in c:\\users\\admin\\appdata\\local\\programs\\python\\python311\\lib\\site-packages (from matplotlib) (1.2.0)\n",
      "Requirement already satisfied: cycler>=0.10 in c:\\users\\admin\\appdata\\local\\programs\\python\\python311\\lib\\site-packages (from matplotlib) (0.12.1)\n",
      "Requirement already satisfied: fonttools>=4.22.0 in c:\\users\\admin\\appdata\\local\\programs\\python\\python311\\lib\\site-packages (from matplotlib) (4.44.0)\n",
      "Requirement already satisfied: kiwisolver>=1.3.1 in c:\\users\\admin\\appdata\\local\\programs\\python\\python311\\lib\\site-packages (from matplotlib) (1.4.5)\n",
      "Requirement already satisfied: numpy<2,>=1.21 in c:\\users\\admin\\appdata\\local\\programs\\python\\python311\\lib\\site-packages (from matplotlib) (1.26.1)\n",
      "Requirement already satisfied: packaging>=20.0 in c:\\users\\admin\\appdata\\roaming\\python\\python311\\site-packages (from matplotlib) (23.2)\n",
      "Requirement already satisfied: pillow>=8 in c:\\users\\admin\\appdata\\local\\programs\\python\\python311\\lib\\site-packages (from matplotlib) (10.1.0)\n",
      "Requirement already satisfied: pyparsing>=2.3.1 in c:\\users\\admin\\appdata\\local\\programs\\python\\python311\\lib\\site-packages (from matplotlib) (3.1.1)\n",
      "Requirement already satisfied: python-dateutil>=2.7 in c:\\users\\admin\\appdata\\roaming\\python\\python311\\site-packages (from matplotlib) (2.8.2)\n",
      "Requirement already satisfied: six>=1.5 in c:\\users\\admin\\appdata\\roaming\\python\\python311\\site-packages (from python-dateutil>=2.7->matplotlib) (1.16.0)\n",
      "Note: you may need to restart the kernel to use updated packages.\n"
     ]
    },
    {
     "name": "stderr",
     "output_type": "stream",
     "text": [
      "\n",
      "[notice] A new release of pip is available: 23.1.2 -> 23.3.2\n",
      "[notice] To update, run: python.exe -m pip install --upgrade pip\n"
     ]
    },
    {
     "name": "stdout",
     "output_type": "stream",
     "text": [
      "Requirement already satisfied: ipython in c:\\users\\admin\\appdata\\roaming\\python\\python311\\site-packages (8.17.2)\n",
      "Requirement already satisfied: decorator in c:\\users\\admin\\appdata\\roaming\\python\\python311\\site-packages (from ipython) (5.1.1)\n",
      "Requirement already satisfied: jedi>=0.16 in c:\\users\\admin\\appdata\\roaming\\python\\python311\\site-packages (from ipython) (0.19.1)\n",
      "Requirement already satisfied: matplotlib-inline in c:\\users\\admin\\appdata\\roaming\\python\\python311\\site-packages (from ipython) (0.1.6)\n",
      "Requirement already satisfied: prompt-toolkit!=3.0.37,<3.1.0,>=3.0.30 in c:\\users\\admin\\appdata\\roaming\\python\\python311\\site-packages (from ipython) (3.0.39)\n",
      "Requirement already satisfied: pygments>=2.4.0 in c:\\users\\admin\\appdata\\roaming\\python\\python311\\site-packages (from ipython) (2.16.1)\n",
      "Requirement already satisfied: stack-data in c:\\users\\admin\\appdata\\roaming\\python\\python311\\site-packages (from ipython) (0.6.3)\n",
      "Requirement already satisfied: traitlets>=5 in c:\\users\\admin\\appdata\\roaming\\python\\python311\\site-packages (from ipython) (5.13.0)\n",
      "Requirement already satisfied: colorama in c:\\users\\admin\\appdata\\roaming\\python\\python311\\site-packages (from ipython) (0.4.6)\n",
      "Requirement already satisfied: parso<0.9.0,>=0.8.3 in c:\\users\\admin\\appdata\\roaming\\python\\python311\\site-packages (from jedi>=0.16->ipython) (0.8.3)\n",
      "Requirement already satisfied: wcwidth in c:\\users\\admin\\appdata\\roaming\\python\\python311\\site-packages (from prompt-toolkit!=3.0.37,<3.1.0,>=3.0.30->ipython) (0.2.9)\n",
      "Requirement already satisfied: executing>=1.2.0 in c:\\users\\admin\\appdata\\roaming\\python\\python311\\site-packages (from stack-data->ipython) (2.0.1)\n",
      "Requirement already satisfied: asttokens>=2.1.0 in c:\\users\\admin\\appdata\\roaming\\python\\python311\\site-packages (from stack-data->ipython) (2.4.1)\n",
      "Requirement already satisfied: pure-eval in c:\\users\\admin\\appdata\\roaming\\python\\python311\\site-packages (from stack-data->ipython) (0.2.2)\n",
      "Requirement already satisfied: six>=1.12.0 in c:\\users\\admin\\appdata\\roaming\\python\\python311\\site-packages (from asttokens>=2.1.0->stack-data->ipython) (1.16.0)\n",
      "Note: you may need to restart the kernel to use updated packages.\n"
     ]
    },
    {
     "name": "stderr",
     "output_type": "stream",
     "text": [
      "\n",
      "[notice] A new release of pip is available: 23.1.2 -> 23.3.2\n",
      "[notice] To update, run: python.exe -m pip install --upgrade pip\n"
     ]
    }
   ],
   "source": [
    "%pip install numpy\n",
    "%pip install pandas\n",
    "%pip install matplotlib\n",
    "%pip install ipython"
   ]
  },
  {
   "cell_type": "code",
   "execution_count": 215,
   "outputs": [],
   "source": [
    "import pandas as pd\n",
    "import numpy as np\n",
    "from matplotlib import pyplot as plt\n",
    "from IPython.core.display_functions import clear_output\n",
    "from IPython.display import display\n",
    "\n",
    "import os\n",
    "import math"
   ],
   "metadata": {
    "collapsed": false,
    "ExecuteTime": {
     "end_time": "2023-12-22T09:06:35.692968300Z",
     "start_time": "2023-12-22T09:06:35.685982100Z"
    }
   }
  },
  {
   "cell_type": "code",
   "execution_count": 216,
   "metadata": {
    "ExecuteTime": {
     "end_time": "2023-12-22T09:06:35.700047100Z",
     "start_time": "2023-12-22T09:06:35.693964200Z"
    }
   },
   "outputs": [],
   "source": [
    "species_values = ['Iris-setosa','Iris-versicolor','Iris-virginica']"
   ]
  },
  {
   "cell_type": "code",
   "execution_count": 217,
   "outputs": [],
   "source": [
    "seed = 42\n",
    "\n",
    "np.random.seed(seed) # set seed for reproducibility\n",
    "\n",
    "shuffle_seed = np.random.randint(0,1000000) # shuffle seed for reproducibility"
   ],
   "metadata": {
    "collapsed": false,
    "ExecuteTime": {
     "end_time": "2023-12-22T09:06:35.737626200Z",
     "start_time": "2023-12-22T09:06:35.700047100Z"
    }
   }
  },
  {
   "cell_type": "code",
   "execution_count": 218,
   "metadata": {
    "ExecuteTime": {
     "end_time": "2023-12-22T09:06:35.773667600Z",
     "start_time": "2023-12-22T09:06:35.706626Z"
    }
   },
   "outputs": [
    {
     "data": {
      "text/plain": "      Id  SepalLengthCm  SepalWidthCm  PetalLengthCm  PetalWidthCm  \\\n0     58            4.9           2.4            3.3           1.0   \n1    100            5.7           2.8            4.1           1.3   \n2    116            6.4           3.2            5.3           2.3   \n3    138            6.4           3.1            5.5           1.8   \n4    114            5.7           2.5            5.0           2.0   \n..   ...            ...           ...            ...           ...   \n115    4            4.6           3.1            1.5           0.2   \n116   32            5.4           3.4            1.5           0.4   \n117   72            6.1           2.8            4.0           1.3   \n118  113            6.8           3.0            5.5           2.1   \n119    9            4.4           2.9            1.4           0.2   \n\n             Species  Species_Iris-setosa  Species_Iris-versicolor  \\\n0    Iris-versicolor                    0                        1   \n1    Iris-versicolor                    0                        1   \n2     Iris-virginica                    0                        0   \n3     Iris-virginica                    0                        0   \n4     Iris-virginica                    0                        0   \n..               ...                  ...                      ...   \n115      Iris-setosa                    1                        0   \n116      Iris-setosa                    1                        0   \n117  Iris-versicolor                    0                        1   \n118   Iris-virginica                    0                        0   \n119      Iris-setosa                    1                        0   \n\n     Species_Iris-virginica  \n0                         0  \n1                         0  \n2                         1  \n3                         1  \n4                         1  \n..                      ...  \n115                       0  \n116                       0  \n117                       0  \n118                       1  \n119                       0  \n\n[120 rows x 9 columns]",
      "text/html": "<div>\n<style scoped>\n    .dataframe tbody tr th:only-of-type {\n        vertical-align: middle;\n    }\n\n    .dataframe tbody tr th {\n        vertical-align: top;\n    }\n\n    .dataframe thead th {\n        text-align: right;\n    }\n</style>\n<table border=\"1\" class=\"dataframe\">\n  <thead>\n    <tr style=\"text-align: right;\">\n      <th></th>\n      <th>Id</th>\n      <th>SepalLengthCm</th>\n      <th>SepalWidthCm</th>\n      <th>PetalLengthCm</th>\n      <th>PetalWidthCm</th>\n      <th>Species</th>\n      <th>Species_Iris-setosa</th>\n      <th>Species_Iris-versicolor</th>\n      <th>Species_Iris-virginica</th>\n    </tr>\n  </thead>\n  <tbody>\n    <tr>\n      <th>0</th>\n      <td>58</td>\n      <td>4.9</td>\n      <td>2.4</td>\n      <td>3.3</td>\n      <td>1.0</td>\n      <td>Iris-versicolor</td>\n      <td>0</td>\n      <td>1</td>\n      <td>0</td>\n    </tr>\n    <tr>\n      <th>1</th>\n      <td>100</td>\n      <td>5.7</td>\n      <td>2.8</td>\n      <td>4.1</td>\n      <td>1.3</td>\n      <td>Iris-versicolor</td>\n      <td>0</td>\n      <td>1</td>\n      <td>0</td>\n    </tr>\n    <tr>\n      <th>2</th>\n      <td>116</td>\n      <td>6.4</td>\n      <td>3.2</td>\n      <td>5.3</td>\n      <td>2.3</td>\n      <td>Iris-virginica</td>\n      <td>0</td>\n      <td>0</td>\n      <td>1</td>\n    </tr>\n    <tr>\n      <th>3</th>\n      <td>138</td>\n      <td>6.4</td>\n      <td>3.1</td>\n      <td>5.5</td>\n      <td>1.8</td>\n      <td>Iris-virginica</td>\n      <td>0</td>\n      <td>0</td>\n      <td>1</td>\n    </tr>\n    <tr>\n      <th>4</th>\n      <td>114</td>\n      <td>5.7</td>\n      <td>2.5</td>\n      <td>5.0</td>\n      <td>2.0</td>\n      <td>Iris-virginica</td>\n      <td>0</td>\n      <td>0</td>\n      <td>1</td>\n    </tr>\n    <tr>\n      <th>...</th>\n      <td>...</td>\n      <td>...</td>\n      <td>...</td>\n      <td>...</td>\n      <td>...</td>\n      <td>...</td>\n      <td>...</td>\n      <td>...</td>\n      <td>...</td>\n    </tr>\n    <tr>\n      <th>115</th>\n      <td>4</td>\n      <td>4.6</td>\n      <td>3.1</td>\n      <td>1.5</td>\n      <td>0.2</td>\n      <td>Iris-setosa</td>\n      <td>1</td>\n      <td>0</td>\n      <td>0</td>\n    </tr>\n    <tr>\n      <th>116</th>\n      <td>32</td>\n      <td>5.4</td>\n      <td>3.4</td>\n      <td>1.5</td>\n      <td>0.4</td>\n      <td>Iris-setosa</td>\n      <td>1</td>\n      <td>0</td>\n      <td>0</td>\n    </tr>\n    <tr>\n      <th>117</th>\n      <td>72</td>\n      <td>6.1</td>\n      <td>2.8</td>\n      <td>4.0</td>\n      <td>1.3</td>\n      <td>Iris-versicolor</td>\n      <td>0</td>\n      <td>1</td>\n      <td>0</td>\n    </tr>\n    <tr>\n      <th>118</th>\n      <td>113</td>\n      <td>6.8</td>\n      <td>3.0</td>\n      <td>5.5</td>\n      <td>2.1</td>\n      <td>Iris-virginica</td>\n      <td>0</td>\n      <td>0</td>\n      <td>1</td>\n    </tr>\n    <tr>\n      <th>119</th>\n      <td>9</td>\n      <td>4.4</td>\n      <td>2.9</td>\n      <td>1.4</td>\n      <td>0.2</td>\n      <td>Iris-setosa</td>\n      <td>1</td>\n      <td>0</td>\n      <td>0</td>\n    </tr>\n  </tbody>\n</table>\n<p>120 rows × 9 columns</p>\n</div>"
     },
     "execution_count": 218,
     "metadata": {},
     "output_type": "execute_result"
    }
   ],
   "source": [
    "read_from_checkpoint = False\n",
    "\n",
    "if(not read_from_checkpoint):\n",
    "    all_data = pd.read_csv(\"iris.csv\")\n",
    "    all_data = all_data.sample( frac=1, random_state=shuffle_seed) # shuffle\n",
    "    for species_value in species_values:\n",
    "        all_data['Species_' + species_value] = (all_data['Species'] == species_value).astype(int)\n",
    "\n",
    "\n",
    "\n",
    "    cutoff = math.floor(len(all_data) * 0.8)\n",
    "\n",
    "    training_data = all_data.iloc[:cutoff,:].reset_index(drop=True)\n",
    "    testing_data = all_data.iloc[cutoff:,:].reset_index(drop=True)\n",
    "\n",
    "    os.makedirs(\"checkpoint\",exist_ok=True)\n",
    "    training_data.to_csv('checkpoint/trainingdata.csv',index=False)\n",
    "    testing_data.to_csv('checkpoint/testingdata.csv',index=False)\n",
    "else:\n",
    "    training_data = pd.read_csv('checkpoint/trainingdata.csv')\n",
    "    testing_data = pd.read_csv('checkpoint/testingdata.csv')\n",
    "\n",
    "\n",
    "training_data"
   ]
  },
  {
   "cell_type": "code",
   "execution_count": 219,
   "metadata": {
    "executionInfo": {
     "elapsed": 4,
     "status": "ok",
     "timestamp": 1699085966866,
     "user": {
      "displayName": "Wayne Borg (wayne1512)",
      "userId": "14031780574936101840"
     },
     "user_tz": -60
    },
    "id": "IjxPYkDCaM3r",
    "ExecuteTime": {
     "end_time": "2023-12-22T09:06:35.779525600Z",
     "start_time": "2023-12-22T09:06:35.775003Z"
    }
   },
   "outputs": [],
   "source": [
    "def sigmoid(logit): # sigmoid\n",
    "  return 1/(1+ np.exp(-logit))\n",
    "\n",
    "def leaky_relu(logit): # leaky relu\n",
    "  return np.where(logit>0.0,logit,0.01*logit)\n",
    "\n",
    "def softmax(logit): # softmax\n",
    "  return np.exp(logit)/np.sum(np.exp(logit))"
   ]
  },
  {
   "cell_type": "code",
   "execution_count": 220,
   "outputs": [
    {
     "data": {
      "text/plain": "<Figure size 640x480 with 1 Axes>",
      "image/png": "[encoded data removed]"
     },
     "metadata": {},
     "output_type": "display_data"
    }
   ],
   "source": [
    "bad_facts_fig, bad_facts_ax = plt.subplots()\n",
    "bad_facts_ln, = bad_facts_ax.plot([], [], label='Bad Facts')\n",
    "\n",
    "bad_facts_ax.set_xlabel('Epoch')\n",
    "bad_facts_ax.set_ylabel('Bad Facts')\n",
    "bad_facts_ax.legend(loc='upper right')\n",
    "\n",
    "def update_graphs(): \n",
    "    bad_facts_ln.set_data(range(len(bad_facts_per_epoch)),bad_facts_per_epoch)\n",
    "    bad_facts_fig.gca().relim()\n",
    "    bad_facts_fig.gca().autoscale_view()\n",
    "    \n",
    "    clear_output(wait=True)\n",
    "    display(bad_facts_fig)"
   ],
   "metadata": {
    "collapsed": false,
    "ExecuteTime": {
     "end_time": "2023-12-22T09:06:35.943687600Z",
     "start_time": "2023-12-22T09:06:35.780526400Z"
    }
   }
  },
  {
   "cell_type": "code",
   "execution_count": 221,
   "outputs": [],
   "source": [
    "layer0_size = 4 #input size\n",
    "layer1_size = 4 #hidden layer size\n",
    "layer2_size = 3 #output size\n",
    "\n",
    "\n",
    "layer_1_dropout = np.zeros(layer1_size)\n",
    "\n",
    "layer0_outputs = np.zeros(layer0_size)\n",
    "layer1_outputs = np.zeros(layer1_size)\n",
    "layer2_outputs = np.zeros(layer2_size)\n",
    "\n",
    "\n",
    "layer1_logit = np.zeros(layer1_size)\n",
    "layer2_logit = np.zeros(layer2_size)\n",
    "\n",
    "\n",
    "layer1_weights = np.random.uniform(-1,1,size=(layer0_size,layer1_size))\n",
    "layer2_weights = np.random.uniform(-1,1,size=(layer1_size,layer2_size))\n",
    "\n",
    "\n",
    "layer2_delta = np.zeros(layer2_size)\n",
    "layer1_delta = np.zeros(layer1_size)\n",
    "\n",
    "update_graph_live = True\n",
    "update_graph_intervals = 1000\n",
    "\n",
    "error_threshold = 0.2\n",
    "learning_rate = 0.2\n",
    "layer_1_dropout_prob = 0.0\n",
    "\n",
    "layer1_activation_function = \"sigmoid\"\n",
    "layer2_activation_function = \"sigmoid\"\n",
    "\n",
    "bad_facts_per_epoch = []"
   ],
   "metadata": {
    "collapsed": false,
    "ExecuteTime": {
     "end_time": "2023-12-22T09:06:35.949492600Z",
     "start_time": "2023-12-22T09:06:35.940689500Z"
    }
   }
  },
  {
   "cell_type": "code",
   "execution_count": 222,
   "outputs": [],
   "source": [
    "def forward_prop_layer(layer_inputs, layer_weights, layer_logit, layer_outputs,activation_function, use_dropout = False, layer_dropout = None, layer_dropout_probability = 0):\n",
    "    np.matmul(layer_inputs,layer_weights,out=layer_logit)\n",
    "        \n",
    "    if activation_function == \"sigmoid\":\n",
    "        layer_outputs[:] = sigmoid(layer_logit)\n",
    "    elif activation_function == \"leaky_relu\":\n",
    "        layer_outputs[:] = leaky_relu(layer_logit)\n",
    "    elif activation_function == \"softmax\":\n",
    "        layer_outputs[:] = softmax(layer_logit)\n",
    "    else:\n",
    "        raise Exception(\"Unknown activation function\",activation_function)\n",
    "    \n",
    "    if use_dropout:\n",
    "        layer_dropout[:] = np.random.rand(*layer_dropout.shape)>layer_dropout_probability\n",
    "        layer_outputs *= layer_dropout\n",
    "    "
   ],
   "metadata": {
    "collapsed": false,
    "ExecuteTime": {
     "end_time": "2023-12-22T09:06:35.956199900Z",
     "start_time": "2023-12-22T09:06:35.948490400Z"
    }
   }
  },
  {
   "cell_type": "code",
   "execution_count": 223,
   "outputs": [],
   "source": [
    "def forward_prop(inputs,use_dropout):\n",
    "    layer0_outputs[:] = np.array(inputs)\n",
    "    forward_prop_layer(layer0_outputs,layer1_weights,layer1_logit,layer1_outputs,layer1_activation_function,use_dropout,layer_1_dropout,layer_1_dropout_prob)\n",
    "    forward_prop_layer(layer1_outputs,layer2_weights,layer2_logit,layer2_outputs,layer2_activation_function)\n",
    "    "
   ],
   "metadata": {
    "collapsed": false,
    "ExecuteTime": {
     "end_time": "2023-12-22T09:06:35.962212700Z",
     "start_time": "2023-12-22T09:06:35.957199900Z"
    }
   }
  },
  {
   "cell_type": "code",
   "execution_count": 224,
   "metadata": {
    "ExecuteTime": {
     "end_time": "2023-12-22T09:06:35.974046500Z",
     "start_time": "2023-12-22T09:06:35.964213500Z"
    }
   },
   "outputs": [],
   "source": [
    "def back_prop_output_layer(layer_outputs,targets,layer_weights,layer_delta,prev_layer_ouputs,activation_function):\n",
    "    \n",
    "    if activation_function == \"sigmoid\":\n",
    "        layer_delta[:] = layer_outputs*(1-layer_outputs) * (targets-layer_outputs)\n",
    "    elif activation_function == \"leaky_relu\":\n",
    "        layer_delta[:] = np.where(layer_outputs>0.0,1.0,0.01) * (targets-layer_outputs)\n",
    "    elif activation_function == \"softmax\":\n",
    "        layer_delta[:] = layer_outputs - targets\n",
    "    else:\n",
    "        raise Exception(\"Unknown activation function\",activation_function)\n",
    "\n",
    "    delta_W = np.outer(prev_layer_ouputs,layer_delta.T) * learning_rate\n",
    "\n",
    "    layer_weights += delta_W\n",
    "\n",
    "    "
   ]
  },
  {
   "cell_type": "code",
   "execution_count": 225,
   "outputs": [],
   "source": [
    "def back_prop_hidden_layer(output_weights,layer_outputs,layer_weights,prev_layer_outputs,next_layer_deltas,layer_delta,activation_function):\n",
    "\n",
    "\n",
    "    sums = []\n",
    "\n",
    "    for p in range(output_weights.shape[0]):\n",
    "        sum = 0\n",
    "        for q in range(output_weights.shape[1]):\n",
    "            sum += next_layer_deltas[q] * output_weights[p,q]\n",
    "        sums.append(sum)\n",
    "\n",
    "\n",
    "    if activation_function == \"sigmoid\":\n",
    "        layer_delta[:] = layer_outputs*(1-layer_outputs) * np.array(sums)\n",
    "    elif activation_function == \"leaky_relu\":\n",
    "        layer_delta[:] = np.where(layer_outputs>0.0,1.0,0.01) * np.array(sums)\n",
    "    else:\n",
    "        raise Exception(\"Unknown activation function\",activation_function)\n",
    "\n",
    "    delta_W = np.outer(prev_layer_outputs,layer_delta.T) * learning_rate\n",
    "\n",
    "    layer_weights += delta_W"
   ],
   "metadata": {
    "collapsed": false,
    "ExecuteTime": {
     "end_time": "2023-12-22T09:06:36.024680100Z",
     "start_time": "2023-12-22T09:06:35.974046500Z"
    }
   }
  },
  {
   "cell_type": "code",
   "execution_count": 226,
   "metadata": {
    "ExecuteTime": {
     "end_time": "2023-12-22T09:06:36.025677200Z",
     "start_time": "2023-12-22T09:06:35.978573700Z"
    }
   },
   "outputs": [],
   "source": [
    "def back_prop(target):\n",
    "    back_prop_output_layer(layer2_outputs,target,layer2_weights,layer2_delta,layer1_outputs,layer2_activation_function)\n",
    "    back_prop_hidden_layer(layer2_weights,layer1_outputs,layer1_weights,layer0_outputs,layer2_delta,layer1_delta,layer1_activation_function)"
   ]
  },
  {
   "cell_type": "code",
   "execution_count": 227,
   "outputs": [],
   "source": [
    "def train():\n",
    "    \n",
    "    \n",
    "    last_improved_epoch = 0\n",
    "    last_improved_epoch_bad_facts = len(training_data.index)\n",
    "    last_improved_epoch_threshold = 500\n",
    "    \n",
    "    for epoch in range(10000):\n",
    "        bad_facts = 0\n",
    "        for i in range(len(training_data.index)):\n",
    "    \n",
    "            forward_prop(training_data.loc[i,['SepalLengthCm','SepalWidthCm','PetalLengthCm','PetalWidthCm']].values.astype(float),True)\n",
    "    \n",
    "            target = training_data.loc[i,['Species_Iris-setosa','Species_Iris-versicolor','Species_Iris-virginica']].values.astype(float)\n",
    "            \n",
    "            error = target - layer2_outputs\n",
    "    \n",
    "            output_outside_threshold = np.abs(error) > error_threshold\n",
    "    \n",
    "            if np.any(output_outside_threshold):\n",
    "                bad_facts += 1\n",
    "                \n",
    "                back_prop(target)\n",
    "            \n",
    "             \n",
    "        \n",
    "        bad_facts_per_epoch.append(bad_facts)\n",
    "        \n",
    "        if update_graph_live and epoch%update_graph_intervals == 0:\n",
    "            update_graphs()\n",
    "            \n",
    "        if bad_facts < last_improved_epoch_bad_facts:\n",
    "            last_improved_epoch = epoch\n",
    "            last_improved_epoch_bad_facts = bad_facts\n",
    "        elif epoch - last_improved_epoch > last_improved_epoch_threshold:\n",
    "            print(\"Early stopping\")\n",
    "            update_graphs()\n",
    "            return epoch\n",
    "            \n",
    "        if bad_facts == 0:\n",
    "            update_graphs()\n",
    "            return\n"
   ],
   "metadata": {
    "collapsed": false,
    "ExecuteTime": {
     "end_time": "2023-12-22T09:06:36.025677200Z",
     "start_time": "2023-12-22T09:06:35.987668400Z"
    }
   }
  },
  {
   "cell_type": "code",
   "execution_count": 228,
   "outputs": [],
   "source": [
    "def test():\n",
    "    success = []\n",
    "    \n",
    "    for i in range(len(testing_data.index)):\n",
    "    \n",
    "            forward_prop(testing_data.loc[i,['SepalLengthCm','SepalWidthCm','PetalLengthCm','PetalWidthCm']].values.astype(float),False)\n",
    "            \n",
    "            target = testing_data.loc[i,['Species_Iris-setosa','Species_Iris-versicolor','Species_Iris-virginica']].values.astype(float)\n",
    "    \n",
    "            target_class = species_values[np.argmax(target)]\n",
    "            output_class = species_values[np.argmax(layer2_outputs)]\n",
    "    \n",
    "            success.append(target_class == output_class)\n",
    "        \n",
    "    accuracy = np.sum(success)/len(success)\n",
    "    return accuracy"
   ],
   "metadata": {
    "collapsed": false,
    "ExecuteTime": {
     "end_time": "2023-12-22T09:06:36.026679Z",
     "start_time": "2023-12-22T09:06:35.991666Z"
    }
   }
  },
  {
   "cell_type": "code",
   "execution_count": 229,
   "outputs": [
    {
     "data": {
      "text/plain": "<Figure size 640x480 with 1 Axes>",
      "image/png": "[encoded data removed]"
     },
     "metadata": {},
     "output_type": "display_data"
    },
    {
     "data": {
      "text/plain": "1.0"
     },
     "execution_count": 229,
     "metadata": {},
     "output_type": "execute_result"
    }
   ],
   "source": [
    "train()\n",
    "accuracy = test()\n",
    "print(\"Accuracy:\",accuracy)"
   ],
   "metadata": {
    "collapsed": false
   }
  }
 ],
 "metadata": {
  "colab": {
   "authorship_tag": "ABX9TyO7L9LRsSseqFflOKrhX2g9",
   "provenance": []
  },
  "kernelspec": {
   "display_name": "Python 3 (ipykernel)",
   "language": "python",
   "name": "python3"
  },
  "language_info": {
   "codemirror_mode": {
    "name": "ipython",
    "version": 3
   },
   "file_extension": ".py",
   "mimetype": "text/x-python",
   "name": "python",
   "nbconvert_exporter": "python",
   "pygments_lexer": "ipython3",
   "version": "3.11.4"
  }
 },
 "nbformat": 4,
 "nbformat_minor": 4
}
