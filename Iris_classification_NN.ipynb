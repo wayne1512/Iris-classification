{
 "cells": [
  {
   "cell_type": "code",
   "execution_count": 38,
   "metadata": {
    "ExecuteTime": {
     "end_time": "2023-11-10T06:14:57.878415400Z",
     "start_time": "2023-11-10T06:14:51.135198500Z"
    }
   },
   "outputs": [
    {
     "name": "stdout",
     "output_type": "stream",
     "text": [
      "Requirement already satisfied: numpy in c:\\users\\admin\\appdata\\local\\programs\\python\\python311\\lib\\site-packages (1.26.1)\n",
      "Note: you may need to restart the kernel to use updated packages.\n"
     ]
    },
    {
     "name": "stderr",
     "output_type": "stream",
     "text": [
      "\n",
      "[notice] A new release of pip is available: 23.1.2 -> 23.3.1\n",
      "[notice] To update, run: python.exe -m pip install --upgrade pip\n"
     ]
    },
    {
     "name": "stdout",
     "output_type": "stream",
     "text": [
      "Requirement already satisfied: pandas in c:\\users\\admin\\appdata\\local\\programs\\python\\python311\\lib\\site-packages (2.1.2)Note: you may need to restart the kernel to use updated packages.\n",
      "\n",
      "Requirement already satisfied: numpy<2,>=1.23.2 in c:\\users\\admin\\appdata\\local\\programs\\python\\python311\\lib\\site-packages (from pandas) (1.26.1)\n",
      "Requirement already satisfied: python-dateutil>=2.8.2 in c:\\users\\admin\\appdata\\roaming\\python\\python311\\site-packages (from pandas) (2.8.2)\n",
      "Requirement already satisfied: pytz>=2020.1 in c:\\users\\admin\\appdata\\local\\programs\\python\\python311\\lib\\site-packages (from pandas) (2023.3.post1)\n",
      "Requirement already satisfied: tzdata>=2022.1 in c:\\users\\admin\\appdata\\local\\programs\\python\\python311\\lib\\site-packages (from pandas) (2023.3)\n",
      "Requirement already satisfied: six>=1.5 in c:\\users\\admin\\appdata\\roaming\\python\\python311\\site-packages (from python-dateutil>=2.8.2->pandas) (1.16.0)\n"
     ]
    },
    {
     "name": "stderr",
     "output_type": "stream",
     "text": [
      "\n",
      "[notice] A new release of pip is available: 23.1.2 -> 23.3.1\n",
      "[notice] To update, run: python.exe -m pip install --upgrade pip\n"
     ]
    },
    {
     "name": "stdout",
     "output_type": "stream",
     "text": [
      "Requirement already satisfied: matplotlib in c:\\users\\admin\\appdata\\local\\programs\\python\\python311\\lib\\site-packages (3.8.1)\n",
      "Requirement already satisfied: contourpy>=1.0.1 in c:\\users\\admin\\appdata\\local\\programs\\python\\python311\\lib\\site-packages (from matplotlib) (1.2.0)\n",
      "Requirement already satisfied: cycler>=0.10 in c:\\users\\admin\\appdata\\local\\programs\\python\\python311\\lib\\site-packages (from matplotlib) (0.12.1)\n",
      "Requirement already satisfied: fonttools>=4.22.0 in c:\\users\\admin\\appdata\\local\\programs\\python\\python311\\lib\\site-packages (from matplotlib) (4.44.0)\n",
      "Requirement already satisfied: kiwisolver>=1.3.1 in c:\\users\\admin\\appdata\\local\\programs\\python\\python311\\lib\\site-packages (from matplotlib) (1.4.5)\n",
      "Requirement already satisfied: numpy<2,>=1.21 in c:\\users\\admin\\appdata\\local\\programs\\python\\python311\\lib\\site-packages (from matplotlib) (1.26.1)\n",
      "Requirement already satisfied: packaging>=20.0 in c:\\users\\admin\\appdata\\roaming\\python\\python311\\site-packages (from matplotlib) (23.2)\n",
      "Requirement already satisfied: pillow>=8 in c:\\users\\admin\\appdata\\local\\programs\\python\\python311\\lib\\site-packages (from matplotlib) (10.1.0)\n",
      "Requirement already satisfied: pyparsing>=2.3.1 in c:\\users\\admin\\appdata\\local\\programs\\python\\python311\\lib\\site-packages (from matplotlib) (3.1.1)\n",
      "Requirement already satisfied: python-dateutil>=2.7 in c:\\users\\admin\\appdata\\roaming\\python\\python311\\site-packages (from matplotlib) (2.8.2)\n",
      "Requirement already satisfied: six>=1.5 in c:\\users\\admin\\appdata\\roaming\\python\\python311\\site-packages (from python-dateutil>=2.7->matplotlib) (1.16.0)\n",
      "Note: you may need to restart the kernel to use updated packages.\n"
     ]
    },
    {
     "name": "stderr",
     "output_type": "stream",
     "text": [
      "\n",
      "[notice] A new release of pip is available: 23.1.2 -> 23.3.1\n",
      "[notice] To update, run: python.exe -m pip install --upgrade pip\n"
     ]
    }
   ],
   "source": [
    "%pip install numpy\n",
    "%pip install pandas\n",
    "%pip install matplotlib"
   ]
  },
  {
   "cell_type": "code",
   "execution_count": 39,
   "metadata": {
    "executionInfo": {
     "elapsed": 782,
     "status": "ok",
     "timestamp": 1699085856674,
     "user": {
      "displayName": "Wayne Borg (wayne1512)",
      "userId": "14031780574936101840"
     },
     "user_tz": -60
    },
    "id": "wUv3GxzSYSpX",
    "ExecuteTime": {
     "end_time": "2023-11-10T06:14:57.880430Z",
     "start_time": "2023-11-10T06:14:57.877901400Z"
    }
   },
   "outputs": [],
   "source": [
    "import pandas as pd\n",
    "import numpy as np\n",
    "import matplotlib.pyplot as plt\n",
    "from IPython.core.display_functions import clear_output,display\n",
    "\n",
    "\n",
    "import math\n",
    "import os\n",
    "\n"
   ]
  },
  {
   "cell_type": "code",
   "execution_count": 40,
   "metadata": {
    "ExecuteTime": {
     "end_time": "2023-11-10T06:14:57.889053600Z",
     "start_time": "2023-11-10T06:14:57.882435400Z"
    }
   },
   "outputs": [],
   "source": [
    "species_values = ['Iris-setosa','Iris-versicolor','Iris-virginica']"
   ]
  },
  {
   "cell_type": "code",
   "execution_count": 41,
   "metadata": {
    "ExecuteTime": {
     "end_time": "2023-11-10T06:14:57.958249600Z",
     "start_time": "2023-11-10T06:14:57.891061800Z"
    }
   },
   "outputs": [
    {
     "data": {
      "text/plain": "      Id  SepalLengthCm  SepalWidthCm  PetalLengthCm  PetalWidthCm  \\\n0    146            6.7           3.0            5.2           2.3   \n1     63            6.0           2.2            4.0           1.0   \n2    109            6.7           2.5            5.8           1.8   \n3    122            5.6           2.8            4.9           2.0   \n4     81            5.5           2.4            3.8           1.1   \n..   ...            ...           ...            ...           ...   \n115  113            6.8           3.0            5.5           2.1   \n116   72            6.1           2.8            4.0           1.3   \n117   22            5.1           3.7            1.5           0.4   \n118  116            6.4           3.2            5.3           2.3   \n119   18            5.1           3.5            1.4           0.3   \n\n             Species  Species_Iris-setosa  Species_Iris-versicolor  \\\n0     Iris-virginica                    0                        0   \n1    Iris-versicolor                    0                        1   \n2     Iris-virginica                    0                        0   \n3     Iris-virginica                    0                        0   \n4    Iris-versicolor                    0                        1   \n..               ...                  ...                      ...   \n115   Iris-virginica                    0                        0   \n116  Iris-versicolor                    0                        1   \n117      Iris-setosa                    1                        0   \n118   Iris-virginica                    0                        0   \n119      Iris-setosa                    1                        0   \n\n     Species_Iris-virginica  \n0                         1  \n1                         0  \n2                         1  \n3                         1  \n4                         0  \n..                      ...  \n115                       1  \n116                       0  \n117                       0  \n118                       1  \n119                       0  \n\n[120 rows x 9 columns]",
      "text/html": "<div>\n<style scoped>\n    .dataframe tbody tr th:only-of-type {\n        vertical-align: middle;\n    }\n\n    .dataframe tbody tr th {\n        vertical-align: top;\n    }\n\n    .dataframe thead th {\n        text-align: right;\n    }\n</style>\n<table border=\"1\" class=\"dataframe\">\n  <thead>\n    <tr style=\"text-align: right;\">\n      <th></th>\n      <th>Id</th>\n      <th>SepalLengthCm</th>\n      <th>SepalWidthCm</th>\n      <th>PetalLengthCm</th>\n      <th>PetalWidthCm</th>\n      <th>Species</th>\n      <th>Species_Iris-setosa</th>\n      <th>Species_Iris-versicolor</th>\n      <th>Species_Iris-virginica</th>\n    </tr>\n  </thead>\n  <tbody>\n    <tr>\n      <th>0</th>\n      <td>146</td>\n      <td>6.7</td>\n      <td>3.0</td>\n      <td>5.2</td>\n      <td>2.3</td>\n      <td>Iris-virginica</td>\n      <td>0</td>\n      <td>0</td>\n      <td>1</td>\n    </tr>\n    <tr>\n      <th>1</th>\n      <td>63</td>\n      <td>6.0</td>\n      <td>2.2</td>\n      <td>4.0</td>\n      <td>1.0</td>\n      <td>Iris-versicolor</td>\n      <td>0</td>\n      <td>1</td>\n      <td>0</td>\n    </tr>\n    <tr>\n      <th>2</th>\n      <td>109</td>\n      <td>6.7</td>\n      <td>2.5</td>\n      <td>5.8</td>\n      <td>1.8</td>\n      <td>Iris-virginica</td>\n      <td>0</td>\n      <td>0</td>\n      <td>1</td>\n    </tr>\n    <tr>\n      <th>3</th>\n      <td>122</td>\n      <td>5.6</td>\n      <td>2.8</td>\n      <td>4.9</td>\n      <td>2.0</td>\n      <td>Iris-virginica</td>\n      <td>0</td>\n      <td>0</td>\n      <td>1</td>\n    </tr>\n    <tr>\n      <th>4</th>\n      <td>81</td>\n      <td>5.5</td>\n      <td>2.4</td>\n      <td>3.8</td>\n      <td>1.1</td>\n      <td>Iris-versicolor</td>\n      <td>0</td>\n      <td>1</td>\n      <td>0</td>\n    </tr>\n    <tr>\n      <th>...</th>\n      <td>...</td>\n      <td>...</td>\n      <td>...</td>\n      <td>...</td>\n      <td>...</td>\n      <td>...</td>\n      <td>...</td>\n      <td>...</td>\n      <td>...</td>\n    </tr>\n    <tr>\n      <th>115</th>\n      <td>113</td>\n      <td>6.8</td>\n      <td>3.0</td>\n      <td>5.5</td>\n      <td>2.1</td>\n      <td>Iris-virginica</td>\n      <td>0</td>\n      <td>0</td>\n      <td>1</td>\n    </tr>\n    <tr>\n      <th>116</th>\n      <td>72</td>\n      <td>6.1</td>\n      <td>2.8</td>\n      <td>4.0</td>\n      <td>1.3</td>\n      <td>Iris-versicolor</td>\n      <td>0</td>\n      <td>1</td>\n      <td>0</td>\n    </tr>\n    <tr>\n      <th>117</th>\n      <td>22</td>\n      <td>5.1</td>\n      <td>3.7</td>\n      <td>1.5</td>\n      <td>0.4</td>\n      <td>Iris-setosa</td>\n      <td>1</td>\n      <td>0</td>\n      <td>0</td>\n    </tr>\n    <tr>\n      <th>118</th>\n      <td>116</td>\n      <td>6.4</td>\n      <td>3.2</td>\n      <td>5.3</td>\n      <td>2.3</td>\n      <td>Iris-virginica</td>\n      <td>0</td>\n      <td>0</td>\n      <td>1</td>\n    </tr>\n    <tr>\n      <th>119</th>\n      <td>18</td>\n      <td>5.1</td>\n      <td>3.5</td>\n      <td>1.4</td>\n      <td>0.3</td>\n      <td>Iris-setosa</td>\n      <td>1</td>\n      <td>0</td>\n      <td>0</td>\n    </tr>\n  </tbody>\n</table>\n<p>120 rows × 9 columns</p>\n</div>"
     },
     "execution_count": 41,
     "metadata": {},
     "output_type": "execute_result"
    }
   ],
   "source": [
    "read_from_checkpoint = False\n",
    "\n",
    "if(not read_from_checkpoint):\n",
    "    all_data = pd.read_csv(\"iris.csv\")\n",
    "    all_data = all_data.sample( frac=1) # shuffle\n",
    "    for species_value in species_values:\n",
    "        all_data['Species_' + species_value] = (all_data['Species'] == species_value).astype(int)\n",
    "\n",
    "\n",
    "\n",
    "    cutoff = math.floor(len(all_data) * 0.8)\n",
    "\n",
    "    training_data = all_data.iloc[:cutoff,:].reset_index(drop=True)\n",
    "    testing_data = all_data.iloc[cutoff:,:].reset_index(drop=True)\n",
    "\n",
    "    os.makedirs(\"checkpoint\",exist_ok=True)\n",
    "    training_data.to_csv('checkpoint/trainingdata.csv',index=False)\n",
    "    testing_data.to_csv('checkpoint/testingdata.csv',index=False)\n",
    "else:\n",
    "    training_data = pd.read_csv('checkpoint/trainingdata.csv')\n",
    "    testing_data = pd.read_csv('checkpoint/testingdata.csv')\n",
    "\n",
    "\n",
    "training_data"
   ]
  },
  {
   "cell_type": "code",
   "execution_count": 42,
   "metadata": {
    "executionInfo": {
     "elapsed": 4,
     "status": "ok",
     "timestamp": 1699085966866,
     "user": {
      "displayName": "Wayne Borg (wayne1512)",
      "userId": "14031780574936101840"
     },
     "user_tz": -60
    },
    "id": "IjxPYkDCaM3r",
    "ExecuteTime": {
     "end_time": "2023-11-10T06:14:57.958249600Z",
     "start_time": "2023-11-10T06:14:57.913530300Z"
    }
   },
   "outputs": [],
   "source": [
    "def activationFunction(logit): # sigmoid\n",
    "  return 1/(1+ math.exp(-logit))"
   ]
  },
  {
   "cell_type": "code",
   "execution_count": 43,
   "metadata": {
    "id": "ZUpy8h3famtd",
    "ExecuteTime": {
     "end_time": "2023-11-10T06:14:57.958249600Z",
     "start_time": "2023-11-10T06:14:57.918548700Z"
    }
   },
   "outputs": [],
   "source": [
    "layer0_size = 4\n",
    "layer1_size = 5\n",
    "layer2_size = 3\n",
    "\n",
    "\n",
    "layer0_outputs = np.zeros(layer0_size)\n",
    "layer1_outputs = np.zeros(layer1_size)\n",
    "layer2_outputs = np.zeros(layer2_size)\n",
    "\n",
    "\n",
    "layer1_logit = np.zeros(layer1_size)\n",
    "layer2_logit = np.zeros(layer2_size)\n",
    "\n",
    "\n",
    "layer1_weights = np.random.uniform(-1,1,size=(layer0_size,layer1_size))\n",
    "layer2_weights = np.random.uniform(-1,1,size=(layer1_size,layer2_size))\n",
    "\n",
    "layer1_biases = np.random.uniform(-1,1,size=layer1_size)\n",
    "layer2_biases = np.random.uniform(-1,1,size=layer2_size)\n",
    "\n",
    "layer2_delta = np.zeros(layer2_size)\n",
    "layer1_delta = np.zeros(layer1_size)\n",
    "\n",
    "\n",
    "\n",
    "error_threshold = 0.2\n",
    "learning_rate = 0.2\n",
    "\n",
    "bad_facts_per_epoch = []"
   ]
  },
  {
   "cell_type": "code",
   "execution_count": 44,
   "outputs": [
    {
     "data": {
      "text/plain": "<Figure size 640x480 with 1 Axes>",
      "image/png": "[encoded data removed]"
     },
     "metadata": {},
     "output_type": "display_data"
    }
   ],
   "source": [
    "bad_facts_fig, bad_facts_ax = plt.subplots()\n",
    "bad_facts_ln, = bad_facts_ax.plot([], [], label='Bad Facts')\n",
    "\n",
    "bad_facts_ax.set_xlabel('Epoch')\n",
    "bad_facts_ax.set_ylabel('Bad Facts')\n",
    "bad_facts_ax.legend(loc='upper right')\n",
    "\n",
    "def update_graphs():\n",
    "    bad_facts_ln.set_data(range(len(bad_facts_per_epoch)),bad_facts_per_epoch)\n",
    "    bad_facts_fig.gca().relim()\n",
    "    bad_facts_fig.gca().autoscale_view()\n",
    "    \n",
    "    clear_output(wait=True)\n",
    "    display(bad_facts_fig)"
   ],
   "metadata": {
    "collapsed": false,
    "ExecuteTime": {
     "end_time": "2023-11-10T06:14:58.123824600Z",
     "start_time": "2023-11-10T06:14:57.924250300Z"
    }
   }
  },
  {
   "cell_type": "code",
   "execution_count": 45,
   "metadata": {
    "ExecuteTime": {
     "end_time": "2023-11-10T06:14:58.123824600Z",
     "start_time": "2023-11-10T06:14:58.117005500Z"
    }
   },
   "outputs": [],
   "source": [
    "def forward_prop_layer(layer_inputs,layer_weights,layer_logit,layer_ouputs):\n",
    "    np.matmul(layer_inputs,layer_weights,out=layer_logit)\n",
    "    \n",
    "    for i in range(len(layer_ouputs)):\n",
    "        layer_ouputs[i] = activationFunction(layer_logit[i])\n",
    "    \n",
    "    "
   ]
  },
  {
   "cell_type": "code",
   "execution_count": 46,
   "metadata": {
    "ExecuteTime": {
     "end_time": "2023-11-10T06:14:58.125835600Z",
     "start_time": "2023-11-10T06:14:58.120534500Z"
    }
   },
   "outputs": [],
   "source": [
    "def forward_prop(inputs):\n",
    "    layer0_outputs[:] = np.array(inputs)\n",
    "    forward_prop_layer(layer0_outputs,layer1_weights,layer1_logit,layer1_outputs)\n",
    "    forward_prop_layer(layer1_outputs,layer2_weights,layer2_logit,layer2_outputs)\n",
    "    "
   ]
  },
  {
   "cell_type": "code",
   "execution_count": 47,
   "metadata": {
    "ExecuteTime": {
     "end_time": "2023-11-10T06:14:58.135685600Z",
     "start_time": "2023-11-10T06:14:58.127835800Z"
    }
   },
   "outputs": [],
   "source": [
    "def back_prop_output_layer(layer_outputs,targets,layer_weights,layer_delta,prev_layer_ouputs):\n",
    "    layer_delta[:] = layer_outputs*(1-layer_outputs) * (targets-layer_outputs)\n",
    "\n",
    "    delta_W = np.outer(prev_layer_ouputs,layer_delta.T) * learning_rate\n",
    "\n",
    "    layer_weights += delta_W\n",
    "\n",
    "    "
   ]
  },
  {
   "cell_type": "code",
   "execution_count": 48,
   "outputs": [],
   "source": [
    "def back_prop_hidden_layer(output_weights,layer_outputs,layer_weights,prev_layer_outputs,next_layer_deltas,layer_delta):\n",
    "\n",
    "\n",
    "    sums = []\n",
    "\n",
    "    for p in range(output_weights.shape[0]):\n",
    "        sum = 0\n",
    "        for q in range(output_weights.shape[1]):\n",
    "            sum += next_layer_deltas[q] * output_weights[p,q]\n",
    "        sums.append(sum)\n",
    "\n",
    "\n",
    "    layer_delta[:] = layer_outputs*(1-layer_outputs) * (sums)\n",
    "\n",
    "    delta_W = np.outer(prev_layer_outputs,layer_delta.T) * learning_rate\n",
    "\n",
    "    layer_weights += delta_W"
   ],
   "metadata": {
    "collapsed": false,
    "ExecuteTime": {
     "end_time": "2023-11-10T06:14:58.141810900Z",
     "start_time": "2023-11-10T06:14:58.132862800Z"
    }
   }
  },
  {
   "cell_type": "code",
   "execution_count": 49,
   "metadata": {
    "ExecuteTime": {
     "end_time": "2023-11-10T06:14:58.149738300Z",
     "start_time": "2023-11-10T06:14:58.138696900Z"
    }
   },
   "outputs": [],
   "source": [
    "def back_prop(target):\n",
    "    back_prop_output_layer(layer2_outputs,target,layer2_weights,layer2_delta,layer1_outputs)\n",
    "    back_prop_hidden_layer(layer2_weights,layer1_outputs,layer1_weights,layer0_outputs,layer2_delta,layer1_delta)"
   ]
  },
  {
   "cell_type": "code",
   "execution_count": 50,
   "outputs": [],
   "source": [
    "def train():\n",
    "    for epoch in range(10000):\n",
    "        bad_facts = 0\n",
    "        for i in range(len(training_data.index)):\n",
    "    \n",
    "            \n",
    "    \n",
    "            forward_prop(training_data.loc[i,['SepalLengthCm','SepalWidthCm','PetalLengthCm','PetalWidthCm']].values.astype(float))\n",
    "    \n",
    "            target = training_data.loc[i,['Species_Iris-setosa','Species_Iris-versicolor','Species_Iris-virginica']].values.astype(float)\n",
    "    \n",
    "            error = target - layer2_outputs\n",
    "    \n",
    "            output_outside_threshold = np.abs(error) > error_threshold\n",
    "    \n",
    "            if np.any(output_outside_threshold):\n",
    "                bad_facts += 1\n",
    "                \n",
    "                back_prop(target)\n",
    "            \n",
    "             \n",
    "        \n",
    "        bad_facts_per_epoch.append(bad_facts)\n",
    "        update_graphs()\n",
    "        if bad_facts == 0:\n",
    "            return\n"
   ],
   "metadata": {
    "collapsed": false,
    "ExecuteTime": {
     "end_time": "2023-11-10T06:14:58.150742600Z",
     "start_time": "2023-11-10T06:14:58.143822200Z"
    }
   }
  },
  {
   "cell_type": "code",
   "execution_count": 51,
   "outputs": [],
   "source": [
    "def test():\n",
    "    success = []\n",
    "    \n",
    "    for i in range(len(testing_data.index)):\n",
    "    \n",
    "            \n",
    "    \n",
    "            forward_prop(testing_data.loc[i,['SepalLengthCm','SepalWidthCm','PetalLengthCm','PetalWidthCm']].values.astype(float))\n",
    "            \n",
    "            target = testing_data.loc[i,['Species_Iris-setosa','Species_Iris-versicolor','Species_Iris-virginica']].values.astype(float)\n",
    "    \n",
    "            error = target - layer2_outputs\n",
    "    \n",
    "            output_outside_threshold = np.abs(error) > error_threshold\n",
    "            \n",
    "            success.append(not output_outside_threshold.any())\n",
    "        \n",
    "    return success"
   ],
   "metadata": {
    "collapsed": false,
    "ExecuteTime": {
     "end_time": "2023-11-10T06:14:58.224051400Z",
     "start_time": "2023-11-10T06:14:58.155524Z"
    }
   }
  },
  {
   "cell_type": "code",
   "execution_count": 52,
   "outputs": [
    {
     "data": {
      "text/plain": "[True,\n True,\n True,\n True,\n True,\n True,\n True,\n True,\n True,\n True,\n True,\n True,\n True,\n False,\n True,\n True,\n True,\n True,\n True,\n False,\n True,\n True,\n False,\n True,\n True,\n True,\n True,\n True,\n False,\n True]"
     },
     "execution_count": 52,
     "metadata": {},
     "output_type": "execute_result"
    }
   ],
   "source": [
    "train()\n",
    "test()"
   ],
   "metadata": {
    "collapsed": false,
    "ExecuteTime": {
     "end_time": "2023-11-10T06:26:42.825564400Z",
     "start_time": "2023-11-10T06:14:58.159052600Z"
    }
   }
  },
  {
   "cell_type": "code",
   "execution_count": 52,
   "outputs": [],
   "source": [],
   "metadata": {
    "collapsed": false,
    "ExecuteTime": {
     "end_time": "2023-11-10T06:26:42.830255100Z",
     "start_time": "2023-11-10T06:26:42.826739100Z"
    }
   }
  }
 ],
 "metadata": {
  "colab": {
   "authorship_tag": "ABX9TyO7L9LRsSseqFflOKrhX2g9",
   "provenance": []
  },
  "kernelspec": {
   "display_name": "Python 3 (ipykernel)",
   "language": "python",
   "name": "python3"
  },
  "language_info": {
   "codemirror_mode": {
    "name": "ipython",
    "version": 3
   },
   "file_extension": ".py",
   "mimetype": "text/x-python",
   "name": "python",
   "nbconvert_exporter": "python",
   "pygments_lexer": "ipython3",
   "version": "3.11.4"
  }
 },
 "nbformat": 4,
 "nbformat_minor": 4
}
