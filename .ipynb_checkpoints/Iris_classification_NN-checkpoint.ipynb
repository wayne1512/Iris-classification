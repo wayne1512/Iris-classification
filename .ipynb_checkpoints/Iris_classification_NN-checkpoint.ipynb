{
 "cells": [
  {
   "cell_type": "code",
   "execution_count": 2,
   "metadata": {
    "is_executing": true
   },
   "outputs": [
    {
     "name": "stdout",
     "output_type": "stream",
     "text": [
      "Requirement already satisfied: numpy in c:\\users\\admin\\appdata\\local\\programs\\python\\python311\\lib\\site-packages (1.26.1)\n",
      "Note: you may need to restart the kernel to use updated packages.\n"
     ]
    },
    {
     "name": "stderr",
     "output_type": "stream",
     "text": [
      "\n",
      "[notice] A new release of pip is available: 23.1.2 -> 23.3.1\n",
      "[notice] To update, run: python.exe -m pip install --upgrade pip\n"
     ]
    },
    {
     "name": "stdout",
     "output_type": "stream",
     "text": [
      "Requirement already satisfied: pandas in c:\\users\\admin\\appdata\\local\\programs\\python\\python311\\lib\\site-packages (2.1.2)\n",
      "Requirement already satisfied: numpy<2,>=1.23.2 in c:\\users\\admin\\appdata\\local\\programs\\python\\python311\\lib\\site-packages (from pandas) (1.26.1)\n",
      "Requirement already satisfied: python-dateutil>=2.8.2 in c:\\users\\admin\\appdata\\roaming\\python\\python311\\site-packages (from pandas) (2.8.2)\n",
      "Requirement already satisfied: pytz>=2020.1 in c:\\users\\admin\\appdata\\local\\programs\\python\\python311\\lib\\site-packages (from pandas) (2023.3.post1)\n",
      "Requirement already satisfied: tzdata>=2022.1 in c:\\users\\admin\\appdata\\local\\programs\\python\\python311\\lib\\site-packages (from pandas) (2023.3)\n",
      "Requirement already satisfied: six>=1.5 in c:\\users\\admin\\appdata\\roaming\\python\\python311\\site-packages (from python-dateutil>=2.8.2->pandas) (1.16.0)\n",
      "Note: you may need to restart the kernel to use updated packages.\n"
     ]
    },
    {
     "name": "stderr",
     "output_type": "stream",
     "text": [
      "\n",
      "[notice] A new release of pip is available: 23.1.2 -> 23.3.1\n",
      "[notice] To update, run: python.exe -m pip install --upgrade pip\n"
     ]
    },
    {
     "name": "stdout",
     "output_type": "stream",
     "text": [
      "Requirement already satisfied: matplotlib in c:\\users\\admin\\appdata\\local\\programs\\python\\python311\\lib\\site-packages (3.8.1)\n",
      "Requirement already satisfied: contourpy>=1.0.1 in c:\\users\\admin\\appdata\\local\\programs\\python\\python311\\lib\\site-packages (from matplotlib) (1.2.0)\n",
      "Requirement already satisfied: cycler>=0.10 in c:\\users\\admin\\appdata\\local\\programs\\python\\python311\\lib\\site-packages (from matplotlib) (0.12.1)\n",
      "Requirement already satisfied: fonttools>=4.22.0 in c:\\users\\admin\\appdata\\local\\programs\\python\\python311\\lib\\site-packages (from matplotlib) (4.44.0)\n",
      "Requirement already satisfied: kiwisolver>=1.3.1 in c:\\users\\admin\\appdata\\local\\programs\\python\\python311\\lib\\site-packages (from matplotlib) (1.4.5)\n",
      "Requirement already satisfied: numpy<2,>=1.21 in c:\\users\\admin\\appdata\\local\\programs\\python\\python311\\lib\\site-packages (from matplotlib) (1.26.1)\n",
      "Requirement already satisfied: packaging>=20.0 in c:\\users\\admin\\appdata\\roaming\\python\\python311\\site-packages (from matplotlib) (23.2)\n",
      "Requirement already satisfied: pillow>=8 in c:\\users\\admin\\appdata\\local\\programs\\python\\python311\\lib\\site-packages (from matplotlib) (10.1.0)\n",
      "Requirement already satisfied: pyparsing>=2.3.1 in c:\\users\\admin\\appdata\\local\\programs\\python\\python311\\lib\\site-packages (from matplotlib) (3.1.1)\n",
      "Requirement already satisfied: python-dateutil>=2.7 in c:\\users\\admin\\appdata\\roaming\\python\\python311\\site-packages (from matplotlib) (2.8.2)\n",
      "Requirement already satisfied: six>=1.5 in c:\\users\\admin\\appdata\\roaming\\python\\python311\\site-packages (from python-dateutil>=2.7->matplotlib) (1.16.0)\n",
      "Note: you may need to restart the kernel to use updated packages.\n"
     ]
    },
    {
     "name": "stderr",
     "output_type": "stream",
     "text": [
      "\n",
      "[notice] A new release of pip is available: 23.1.2 -> 23.3.1\n",
      "[notice] To update, run: python.exe -m pip install --upgrade pip\n"
     ]
    }
   ],
   "source": [
    "%pip install numpy\n",
    "%pip install pandas\n",
    "%pip install matplotlib"
   ]
  },
  {
   "cell_type": "code",
   "execution_count": 3,
   "metadata": {
    "executionInfo": {
     "elapsed": 782,
     "status": "ok",
     "timestamp": 1699085856674,
     "user": {
      "displayName": "Wayne Borg (wayne1512)",
      "userId": "14031780574936101840"
     },
     "user_tz": -60
    },
    "id": "wUv3GxzSYSpX",
    "is_executing": true
   },
   "outputs": [],
   "source": [
    "import pandas as pd\n",
    "import numpy as np\n",
    "import matplotlib.pyplot as plt\n",
    "\n",
    "import math\n",
    "import os\n",
    "\n"
   ]
  },
  {
   "cell_type": "code",
   "execution_count": 4,
   "metadata": {},
   "outputs": [],
   "source": [
    "species_values = ['Iris-setosa','Iris-versicolor','Iris-virginica']"
   ]
  },
  {
   "cell_type": "code",
   "execution_count": 5,
   "metadata": {
    "is_executing": true
   },
   "outputs": [
    {
     "data": {
      "text/html": [
       "<div>\n",
       "<style scoped>\n",
       "    .dataframe tbody tr th:only-of-type {\n",
       "        vertical-align: middle;\n",
       "    }\n",
       "\n",
       "    .dataframe tbody tr th {\n",
       "        vertical-align: top;\n",
       "    }\n",
       "\n",
       "    .dataframe thead th {\n",
       "        text-align: right;\n",
       "    }\n",
       "</style>\n",
       "<table border=\"1\" class=\"dataframe\">\n",
       "  <thead>\n",
       "    <tr style=\"text-align: right;\">\n",
       "      <th></th>\n",
       "      <th>Id</th>\n",
       "      <th>SepalLengthCm</th>\n",
       "      <th>SepalWidthCm</th>\n",
       "      <th>PetalLengthCm</th>\n",
       "      <th>PetalWidthCm</th>\n",
       "      <th>Species</th>\n",
       "      <th>Species_Iris-setosa</th>\n",
       "      <th>Species_Iris-versicolor</th>\n",
       "      <th>Species_Iris-virginica</th>\n",
       "    </tr>\n",
       "  </thead>\n",
       "  <tbody>\n",
       "    <tr>\n",
       "      <th>0</th>\n",
       "      <td>70</td>\n",
       "      <td>5.6</td>\n",
       "      <td>2.5</td>\n",
       "      <td>3.9</td>\n",
       "      <td>1.1</td>\n",
       "      <td>Iris-versicolor</td>\n",
       "      <td>0</td>\n",
       "      <td>1</td>\n",
       "      <td>0</td>\n",
       "    </tr>\n",
       "    <tr>\n",
       "      <th>1</th>\n",
       "      <td>83</td>\n",
       "      <td>5.8</td>\n",
       "      <td>2.7</td>\n",
       "      <td>3.9</td>\n",
       "      <td>1.2</td>\n",
       "      <td>Iris-versicolor</td>\n",
       "      <td>0</td>\n",
       "      <td>1</td>\n",
       "      <td>0</td>\n",
       "    </tr>\n",
       "    <tr>\n",
       "      <th>2</th>\n",
       "      <td>131</td>\n",
       "      <td>7.4</td>\n",
       "      <td>2.8</td>\n",
       "      <td>6.1</td>\n",
       "      <td>1.9</td>\n",
       "      <td>Iris-virginica</td>\n",
       "      <td>0</td>\n",
       "      <td>0</td>\n",
       "      <td>1</td>\n",
       "    </tr>\n",
       "    <tr>\n",
       "      <th>3</th>\n",
       "      <td>45</td>\n",
       "      <td>5.1</td>\n",
       "      <td>3.8</td>\n",
       "      <td>1.9</td>\n",
       "      <td>0.4</td>\n",
       "      <td>Iris-setosa</td>\n",
       "      <td>1</td>\n",
       "      <td>0</td>\n",
       "      <td>0</td>\n",
       "    </tr>\n",
       "    <tr>\n",
       "      <th>4</th>\n",
       "      <td>67</td>\n",
       "      <td>5.6</td>\n",
       "      <td>3.0</td>\n",
       "      <td>4.5</td>\n",
       "      <td>1.5</td>\n",
       "      <td>Iris-versicolor</td>\n",
       "      <td>0</td>\n",
       "      <td>1</td>\n",
       "      <td>0</td>\n",
       "    </tr>\n",
       "    <tr>\n",
       "      <th>...</th>\n",
       "      <td>...</td>\n",
       "      <td>...</td>\n",
       "      <td>...</td>\n",
       "      <td>...</td>\n",
       "      <td>...</td>\n",
       "      <td>...</td>\n",
       "      <td>...</td>\n",
       "      <td>...</td>\n",
       "      <td>...</td>\n",
       "    </tr>\n",
       "    <tr>\n",
       "      <th>115</th>\n",
       "      <td>32</td>\n",
       "      <td>5.4</td>\n",
       "      <td>3.4</td>\n",
       "      <td>1.5</td>\n",
       "      <td>0.4</td>\n",
       "      <td>Iris-setosa</td>\n",
       "      <td>1</td>\n",
       "      <td>0</td>\n",
       "      <td>0</td>\n",
       "    </tr>\n",
       "    <tr>\n",
       "      <th>116</th>\n",
       "      <td>140</td>\n",
       "      <td>6.9</td>\n",
       "      <td>3.1</td>\n",
       "      <td>5.4</td>\n",
       "      <td>2.1</td>\n",
       "      <td>Iris-virginica</td>\n",
       "      <td>0</td>\n",
       "      <td>0</td>\n",
       "      <td>1</td>\n",
       "    </tr>\n",
       "    <tr>\n",
       "      <th>117</th>\n",
       "      <td>16</td>\n",
       "      <td>5.7</td>\n",
       "      <td>4.4</td>\n",
       "      <td>1.5</td>\n",
       "      <td>0.4</td>\n",
       "      <td>Iris-setosa</td>\n",
       "      <td>1</td>\n",
       "      <td>0</td>\n",
       "      <td>0</td>\n",
       "    </tr>\n",
       "    <tr>\n",
       "      <th>118</th>\n",
       "      <td>60</td>\n",
       "      <td>5.2</td>\n",
       "      <td>2.7</td>\n",
       "      <td>3.9</td>\n",
       "      <td>1.4</td>\n",
       "      <td>Iris-versicolor</td>\n",
       "      <td>0</td>\n",
       "      <td>1</td>\n",
       "      <td>0</td>\n",
       "    </tr>\n",
       "    <tr>\n",
       "      <th>119</th>\n",
       "      <td>72</td>\n",
       "      <td>6.1</td>\n",
       "      <td>2.8</td>\n",
       "      <td>4.0</td>\n",
       "      <td>1.3</td>\n",
       "      <td>Iris-versicolor</td>\n",
       "      <td>0</td>\n",
       "      <td>1</td>\n",
       "      <td>0</td>\n",
       "    </tr>\n",
       "  </tbody>\n",
       "</table>\n",
       "<p>120 rows × 9 columns</p>\n",
       "</div>"
      ],
      "text/plain": [
       "      Id  SepalLengthCm  SepalWidthCm  PetalLengthCm  PetalWidthCm  \\\n",
       "0     70            5.6           2.5            3.9           1.1   \n",
       "1     83            5.8           2.7            3.9           1.2   \n",
       "2    131            7.4           2.8            6.1           1.9   \n",
       "3     45            5.1           3.8            1.9           0.4   \n",
       "4     67            5.6           3.0            4.5           1.5   \n",
       "..   ...            ...           ...            ...           ...   \n",
       "115   32            5.4           3.4            1.5           0.4   \n",
       "116  140            6.9           3.1            5.4           2.1   \n",
       "117   16            5.7           4.4            1.5           0.4   \n",
       "118   60            5.2           2.7            3.9           1.4   \n",
       "119   72            6.1           2.8            4.0           1.3   \n",
       "\n",
       "             Species  Species_Iris-setosa  Species_Iris-versicolor  \\\n",
       "0    Iris-versicolor                    0                        1   \n",
       "1    Iris-versicolor                    0                        1   \n",
       "2     Iris-virginica                    0                        0   \n",
       "3        Iris-setosa                    1                        0   \n",
       "4    Iris-versicolor                    0                        1   \n",
       "..               ...                  ...                      ...   \n",
       "115      Iris-setosa                    1                        0   \n",
       "116   Iris-virginica                    0                        0   \n",
       "117      Iris-setosa                    1                        0   \n",
       "118  Iris-versicolor                    0                        1   \n",
       "119  Iris-versicolor                    0                        1   \n",
       "\n",
       "     Species_Iris-virginica  \n",
       "0                         0  \n",
       "1                         0  \n",
       "2                         1  \n",
       "3                         0  \n",
       "4                         0  \n",
       "..                      ...  \n",
       "115                       0  \n",
       "116                       1  \n",
       "117                       0  \n",
       "118                       0  \n",
       "119                       0  \n",
       "\n",
       "[120 rows x 9 columns]"
      ]
     },
     "execution_count": 5,
     "metadata": {},
     "output_type": "execute_result"
    }
   ],
   "source": [
    "read_from_checkpoint = False\n",
    "\n",
    "if(not read_from_checkpoint):\n",
    "    all_data = pd.read_csv(\"iris.csv\")\n",
    "    all_data = all_data.sample( frac=1) # shuffle\n",
    "    for species_value in species_values:\n",
    "        all_data['Species_' + species_value] = (all_data['Species'] == species_value).astype(int)\n",
    "\n",
    "\n",
    "\n",
    "    cutoff = math.floor(len(all_data) * 0.8)\n",
    "\n",
    "    training_data = all_data.iloc[:cutoff,:].reset_index(drop=True)\n",
    "    testing_data = all_data.iloc[cutoff:,:].reset_index(drop=True)\n",
    "\n",
    "    os.makedirs(\"checkpoint\",exist_ok=True)\n",
    "    training_data.to_csv('checkpoint/trainingdata.csv',index=False)\n",
    "    testing_data.to_csv('checkpoint/testingdata.csv',index=False)\n",
    "else:\n",
    "    training_data = pd.read_csv('checkpoint/trainingdata.csv')\n",
    "    testing_data = pd.read_csv('checkpoint/testingdata.csv')\n",
    "\n",
    "\n",
    "training_data"
   ]
  },
  {
   "cell_type": "code",
   "execution_count": 6,
   "metadata": {
    "executionInfo": {
     "elapsed": 4,
     "status": "ok",
     "timestamp": 1699085966866,
     "user": {
      "displayName": "Wayne Borg (wayne1512)",
      "userId": "14031780574936101840"
     },
     "user_tz": -60
    },
    "id": "IjxPYkDCaM3r",
    "is_executing": true
   },
   "outputs": [],
   "source": [
    "def activationFunction(logit): # sigmoid\n",
    "  return 1/(1+ math.exp(-logit))"
   ]
  },
  {
   "cell_type": "code",
   "execution_count": 7,
   "metadata": {
    "id": "ZUpy8h3famtd",
    "is_executing": true
   },
   "outputs": [],
   "source": [
    "layer0_size = 4\n",
    "layer1_size = 4\n",
    "layer2_size = 3\n",
    "\n",
    "\n",
    "layer0_outputs = np.zeros(layer0_size)\n",
    "layer1_outputs = np.zeros(layer1_size)\n",
    "layer2_outputs = np.zeros(layer2_size)\n",
    "\n",
    "\n",
    "layer1_logit = np.zeros(layer1_size)\n",
    "layer2_logit = np.zeros(layer2_size)\n",
    "\n",
    "\n",
    "layer1_weights = np.random.uniform(-1,1,size=(layer0_size,layer1_size))\n",
    "layer2_weights = np.random.uniform(-1,1,size=(layer1_size,layer2_size))\n",
    "\n",
    "layer1_biases = np.random.uniform(-1,1,size=layer1_size)\n",
    "layer2_biases = np.random.uniform(-1,1,size=layer2_size)\n",
    "\n",
    "\n",
    "error_treshold = 0.2\n",
    "learning_rate = 0.2\n",
    "\n"
   ]
  },
  {
   "cell_type": "code",
   "execution_count": 8,
   "metadata": {},
   "outputs": [],
   "source": [
    "def forward_prop_layer(layer_inputs,layer_weights,layer_logit,layer_ouputs):\n",
    "    np.matmul(layer_inputs,layer_weights,out=layer_logit)\n",
    "    \n",
    "    for i in range(len(layer_ouputs)):\n",
    "        layer_ouputs[i] = activationFunction(layer_logit[i])\n",
    "    \n",
    "    "
   ]
  },
  {
   "cell_type": "code",
   "execution_count": 9,
   "metadata": {},
   "outputs": [],
   "source": [
    "def forward_prop(inputs):\n",
    "    layer0_outputs = np.array(inputs)\n",
    "    forward_prop_layer(layer0_outputs,layer1_weights,layer1_logit,layer1_outputs)\n",
    "    forward_prop_layer(layer1_outputs,layer2_weights,layer2_logit,layer2_outputs)\n",
    "    "
   ]
  },
  {
   "cell_type": "code",
   "execution_count": 10,
   "metadata": {},
   "outputs": [],
   "source": [
    "def back_prop_output_layer(layer_outputs,targets,layer_weights,prev_layer_ouputs):\n",
    "    delta = layer_outputs*(1-layer_outputs) * (targets-layer_outputs)\n",
    "\n",
    "    delta_W = np.outer(prev_layer_ouputs,delta.T)\n",
    "\n",
    "    \n",
    "\n",
    "    "
   ]
  },
  {
   "cell_type": "code",
   "execution_count": 13,
   "metadata": {
    "tags": []
   },
   "outputs": [
    {
     "ename": "ValueError",
     "evalue": "matmul: Input operand 1 has a mismatch in its core dimension 0, with gufunc signature (n?,k),(k,m?)->(n?,m?) (size 4 is different from 3)",
     "output_type": "error",
     "traceback": [
      "\u001b[1;31m---------------------------------------------------------------------------\u001b[0m",
      "\u001b[1;31mValueError\u001b[0m                                Traceback (most recent call last)",
      "\u001b[1;32md:\\Desktop\\BI_project\\Iris_classification_NN.ipynb Cell 10\u001b[0m line \u001b[0;36m1\n\u001b[0;32m     <a href='vscode-notebook-cell:/d%3A/Desktop/BI_project/Iris_classification_NN.ipynb#X10sZmlsZQ%3D%3D?line=12'>13</a>\u001b[0m \u001b[39mif\u001b[39;00m np\u001b[39m.\u001b[39many(output_outside_threshold):\n\u001b[0;32m     <a href='vscode-notebook-cell:/d%3A/Desktop/BI_project/Iris_classification_NN.ipynb#X10sZmlsZQ%3D%3D?line=13'>14</a>\u001b[0m     bad_facts \u001b[39m+\u001b[39m\u001b[39m=\u001b[39m \u001b[39m1\u001b[39m\n\u001b[1;32m---> <a href='vscode-notebook-cell:/d%3A/Desktop/BI_project/Iris_classification_NN.ipynb#X10sZmlsZQ%3D%3D?line=15'>16</a>\u001b[0m     back_prop_output_layer(layer2_outputs,target,layer2_weights,layer1_outputs)\n\u001b[0;32m     <a href='vscode-notebook-cell:/d%3A/Desktop/BI_project/Iris_classification_NN.ipynb#X10sZmlsZQ%3D%3D?line=17'>18</a>\u001b[0m \u001b[39mprint\u001b[39m(error)\n",
      "\u001b[1;32md:\\Desktop\\BI_project\\Iris_classification_NN.ipynb Cell 10\u001b[0m line \u001b[0;36m4\n\u001b[0;32m      <a href='vscode-notebook-cell:/d%3A/Desktop/BI_project/Iris_classification_NN.ipynb#X10sZmlsZQ%3D%3D?line=0'>1</a>\u001b[0m \u001b[39mdef\u001b[39;00m \u001b[39mback_prop_output_layer\u001b[39m(layer_outputs,targets,layer_weights,prev_layer_ouputs):\n\u001b[0;32m      <a href='vscode-notebook-cell:/d%3A/Desktop/BI_project/Iris_classification_NN.ipynb#X10sZmlsZQ%3D%3D?line=1'>2</a>\u001b[0m     delta \u001b[39m=\u001b[39m layer_outputs\u001b[39m*\u001b[39m(\u001b[39m1\u001b[39m\u001b[39m-\u001b[39mlayer_outputs) \u001b[39m*\u001b[39m (targets\u001b[39m-\u001b[39mlayer_outputs)\n\u001b[1;32m----> <a href='vscode-notebook-cell:/d%3A/Desktop/BI_project/Iris_classification_NN.ipynb#X10sZmlsZQ%3D%3D?line=3'>4</a>\u001b[0m     np\u001b[39m.\u001b[39;49mmatmul(delta,prev_layer_ouputs\u001b[39m.\u001b[39;49mT)\n",
      "\u001b[1;31mValueError\u001b[0m: matmul: Input operand 1 has a mismatch in its core dimension 0, with gufunc signature (n?,k),(k,m?)->(n?,m?) (size 4 is different from 3)"
     ]
    }
   ],
   "source": [
    "for i in range(len(training_data.index)):\n",
    "\n",
    "    bad_facts = 0\n",
    "\n",
    "    forward_prop(training_data.loc[i,['SepalLengthCm','SepalWidthCm','PetalLengthCm','PetalWidthCm']].values.astype(float))\n",
    "\n",
    "    target = training_data.loc[i,['Species_Iris-setosa','Species_Iris-versicolor','Species_Iris-virginica']].values.astype(float)\n",
    "\n",
    "    error = target - layer2_outputs\n",
    "\n",
    "    output_outside_threshold = np.abs(error) > error_treshold\n",
    "\n",
    "    if np.any(output_outside_threshold):\n",
    "        bad_facts += 1\n",
    "        \n",
    "        back_prop_output_layer(layer2_outputs,target,layer2_weights,layer1_outputs)\n",
    "\n",
    "    print(error)\n",
    "\n",
    "    \n",
    "\n",
    "\n"
   ]
  }
 ],
 "metadata": {
  "colab": {
   "authorship_tag": "ABX9TyO7L9LRsSseqFflOKrhX2g9",
   "provenance": []
  },
  "kernelspec": {
   "display_name": "Python 3 (ipykernel)",
   "language": "python",
   "name": "python3"
  },
  "language_info": {
   "codemirror_mode": {
    "name": "ipython",
    "version": 3
   },
   "file_extension": ".py",
   "mimetype": "text/x-python",
   "name": "python",
   "nbconvert_exporter": "python",
   "pygments_lexer": "ipython3",
   "version": "3.11.4"
  }
 },
 "nbformat": 4,
 "nbformat_minor": 4
}
